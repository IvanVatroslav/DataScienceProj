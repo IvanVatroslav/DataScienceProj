{
 "cells": [
  {
   "cell_type": "code",
   "execution_count": 1,
   "id": "initial_id",
   "metadata": {
    "collapsed": true,
    "ExecuteTime": {
     "end_time": "2023-12-07T15:00:23.477513700Z",
     "start_time": "2023-12-07T15:00:09.669996900Z"
    }
   },
   "outputs": [],
   "source": [
    "import pandas\n",
    "import matplotlib.pyplot as plt\n",
    "import numpy\n",
    "import scipy\n",
    "import torch\n",
    "import torchvision\n"
   ]
  },
  {
   "cell_type": "code",
   "execution_count": 10,
   "outputs": [
    {
     "name": "stdout",
     "output_type": "stream",
     "text": [
      "Files already downloaded and verified\n",
      "Epoch [1/10], Step [100/782], Loss: 2.2556\n",
      "Epoch [1/10], Step [200/782], Loss: 2.1311\n",
      "Epoch [1/10], Step [300/782], Loss: 2.0934\n",
      "Epoch [1/10], Step [400/782], Loss: 1.8961\n",
      "Epoch [1/10], Step [500/782], Loss: 1.8937\n",
      "Epoch [1/10], Step [600/782], Loss: 1.9457\n",
      "Epoch [1/10], Step [700/782], Loss: 1.8518\n",
      "Epoch [2/10], Step [100/782], Loss: 1.7345\n",
      "Epoch [2/10], Step [200/782], Loss: 1.6841\n",
      "Epoch [2/10], Step [300/782], Loss: 1.6228\n",
      "Epoch [2/10], Step [400/782], Loss: 1.6604\n",
      "Epoch [2/10], Step [500/782], Loss: 1.6405\n",
      "Epoch [2/10], Step [600/782], Loss: 1.6240\n",
      "Epoch [2/10], Step [700/782], Loss: 1.5368\n",
      "Epoch [3/10], Step [100/782], Loss: 1.3549\n",
      "Epoch [3/10], Step [200/782], Loss: 1.3994\n",
      "Epoch [3/10], Step [300/782], Loss: 1.4096\n",
      "Epoch [3/10], Step [400/782], Loss: 1.6410\n",
      "Epoch [3/10], Step [500/782], Loss: 1.7849\n",
      "Epoch [3/10], Step [600/782], Loss: 1.3443\n",
      "Epoch [3/10], Step [700/782], Loss: 1.4014\n",
      "Epoch [4/10], Step [100/782], Loss: 1.3135\n",
      "Epoch [4/10], Step [200/782], Loss: 1.3218\n",
      "Epoch [4/10], Step [300/782], Loss: 1.4401\n",
      "Epoch [4/10], Step [400/782], Loss: 1.5326\n",
      "Epoch [4/10], Step [500/782], Loss: 1.2869\n",
      "Epoch [4/10], Step [600/782], Loss: 1.4679\n",
      "Epoch [4/10], Step [700/782], Loss: 1.2578\n",
      "Epoch [5/10], Step [100/782], Loss: 1.5155\n",
      "Epoch [5/10], Step [200/782], Loss: 1.3214\n",
      "Epoch [5/10], Step [300/782], Loss: 1.1314\n",
      "Epoch [5/10], Step [400/782], Loss: 1.2900\n",
      "Epoch [5/10], Step [500/782], Loss: 1.4794\n",
      "Epoch [5/10], Step [600/782], Loss: 1.3450\n",
      "Epoch [5/10], Step [700/782], Loss: 1.5075\n",
      "Epoch [6/10], Step [100/782], Loss: 1.2071\n",
      "Epoch [6/10], Step [200/782], Loss: 1.1607\n",
      "Epoch [6/10], Step [300/782], Loss: 1.0175\n",
      "Epoch [6/10], Step [400/782], Loss: 1.3104\n",
      "Epoch [6/10], Step [500/782], Loss: 1.2445\n",
      "Epoch [6/10], Step [600/782], Loss: 1.2477\n",
      "Epoch [6/10], Step [700/782], Loss: 1.0119\n",
      "Epoch [7/10], Step [100/782], Loss: 0.9665\n",
      "Epoch [7/10], Step [200/782], Loss: 1.2977\n",
      "Epoch [7/10], Step [300/782], Loss: 1.2991\n",
      "Epoch [7/10], Step [400/782], Loss: 1.0446\n",
      "Epoch [7/10], Step [500/782], Loss: 1.1838\n",
      "Epoch [7/10], Step [600/782], Loss: 0.9698\n",
      "Epoch [7/10], Step [700/782], Loss: 1.1869\n",
      "Epoch [8/10], Step [100/782], Loss: 1.0349\n",
      "Epoch [8/10], Step [200/782], Loss: 1.1097\n",
      "Epoch [8/10], Step [300/782], Loss: 1.0900\n",
      "Epoch [8/10], Step [400/782], Loss: 1.0254\n",
      "Epoch [8/10], Step [500/782], Loss: 1.1114\n",
      "Epoch [8/10], Step [600/782], Loss: 1.1413\n",
      "Epoch [8/10], Step [700/782], Loss: 1.1926\n",
      "Epoch [9/10], Step [100/782], Loss: 1.2937\n",
      "Epoch [9/10], Step [200/782], Loss: 1.2863\n",
      "Epoch [9/10], Step [300/782], Loss: 0.9464\n",
      "Epoch [9/10], Step [400/782], Loss: 1.1930\n",
      "Epoch [9/10], Step [500/782], Loss: 1.1855\n",
      "Epoch [9/10], Step [600/782], Loss: 1.4438\n",
      "Epoch [9/10], Step [700/782], Loss: 1.2812\n",
      "Epoch [10/10], Step [100/782], Loss: 0.8830\n",
      "Epoch [10/10], Step [200/782], Loss: 1.0654\n",
      "Epoch [10/10], Step [300/782], Loss: 1.2816\n",
      "Epoch [10/10], Step [400/782], Loss: 0.9316\n",
      "Epoch [10/10], Step [500/782], Loss: 1.0441\n",
      "Epoch [10/10], Step [600/782], Loss: 1.0447\n",
      "Epoch [10/10], Step [700/782], Loss: 0.9932\n"
     ]
    }
   ],
   "source": [
    "import torch\n",
    "import torch.nn as nn\n",
    "import torch.optim as optim\n",
    "from torchvision import datasets, transforms\n",
    "\n",
    "\n",
    "class Net(nn.Module):\n",
    "    def __init__(self):\n",
    "        super(Net, self).__init__()\n",
    "        self.conv1 = nn.Conv2d(3, 64, 3, padding=1)\n",
    "        self.bn1 = nn.BatchNorm2d(64)\n",
    "        self.relu1 = nn.ReLU()\n",
    "        self.maxpool1 = nn.MaxPool2d(2)\n",
    "        self.conv2 = nn.Conv2d(64, 128, 3, padding=1)\n",
    "        self.bn2 = nn.BatchNorm2d(128)\n",
    "        self.relu2 = nn.ReLU()\n",
    "        self.maxpool2 = nn.MaxPool2d(2)\n",
    "        self.dropout = nn.Dropout(0.25)\n",
    "        self.fc1 = nn.Linear(8192, 128)\n",
    "        self.relu3 = nn.ReLU()\n",
    "        self.dropout2 = nn.Dropout(0.25)\n",
    "        self.fc2 = nn.Linear(128, 10)\n",
    "\n",
    "    def forward(self, x):\n",
    "        x = self.conv1(x)\n",
    "        x = self.bn1(x)\n",
    "        x = self.relu1(x)\n",
    "        x = self.maxpool1(x)\n",
    "        x = self.conv2(x)\n",
    "        x = self.bn2(x)\n",
    "        x = self.relu2(x)\n",
    "        x = self.maxpool2(x)\n",
    "        x = self.dropout(x)\n",
    "        x = x.view(x.size(0), -1)\n",
    "        x = self.fc1(x)\n",
    "        x = self.relu3(x)\n",
    "        x = self.dropout2(x)\n",
    "        x = self.fc2(x)\n",
    "        return x\n",
    "\n",
    "\n",
    "\n",
    "if __name__ == '__main__':\n",
    "    # Transform the CIFAR-10 dataset\n",
    "    transform = transforms.Compose([\n",
    "        transforms.ToTensor(),\n",
    "        transforms.Normalize((0.5, 0.5, 0.5), (0.5, 0.5, 0.5))\n",
    "    ])\n",
    "\n",
    "    # Load the CIFAR-10 dataset\n",
    "    train_set = datasets.CIFAR10(root='data', train=True, download=True, transform=transform)\n",
    "    train_loader = torch.utils.data.DataLoader(train_set, batch_size=64, shuffle=True)\n",
    "\n",
    "    model = Net()\n",
    "\n",
    "    optimizer = optim.SGD(model.parameters(), lr=0.001, momentum=0.9)\n",
    "    loss_fn = nn.CrossEntropyLoss()\n",
    "\n",
    "    # Train the model\n",
    "    for epoch in range(10):\n",
    "        for i, data in enumerate(train_loader):\n",
    "            inputs, labels = data\n",
    "\n",
    "            # Zero the gradients\n",
    "            optimizer.zero_grad()\n",
    "\n",
    "            # Forward pass\n",
    "            outputs = model(inputs)\n",
    "            loss = loss_fn(outputs, labels)\n",
    "\n",
    "            # Backward pass\n",
    "            loss.backward()\n",
    "\n",
    "            # Update parameters\n",
    "            optimizer.step()\n",
    "\n",
    "            # Print progress\n",
    "            if (i + 1) % 100 == 0:\n",
    "                print('Epoch [{0}/{1}], Step [{2}/{3}], Loss: {4:.4f}'.format(\n",
    "                    epoch + 1, 10, i + 1, len(train_loader), loss.item()))\n"
   ],
   "metadata": {
    "collapsed": false,
    "ExecuteTime": {
     "end_time": "2023-12-07T09:29:02.649544Z",
     "start_time": "2023-12-07T09:06:05.636403300Z"
    }
   },
   "id": "3c8214dc272ca4a1"
  },
  {
   "cell_type": "code",
   "execution_count": null,
   "outputs": [],
   "source": [],
   "metadata": {
    "collapsed": false
   },
   "id": "e13c20ae5331e373"
  },
  {
   "cell_type": "code",
   "execution_count": 40,
   "outputs": [
    {
     "data": {
      "text/plain": "<Figure size 1200x600 with 1 Axes>",
      "image/png": "[encoded data removed]"
     },
     "metadata": {},
     "output_type": "display_data"
    }
   ],
   "source": [
    "\n",
    "loss_values = [\n",
    "    2.2556, 2.1311, 2.0934, 1.8961, 1.8937, 1.9457, 1.8518,\n",
    "    1.7345, 1.6841, 1.6228, 1.6604, 1.6405, 1.6240, 1.5368,\n",
    "    1.3549, 1.3994, 1.4096, 1.6410, 1.7849, 1.3443, 1.4014,\n",
    "    1.3135, 1.3218, 1.4401, 1.5326, 1.2869, 1.4679, 1.2578,\n",
    "    1.5155, 1.3214, 1.1314, 1.2900, 1.4794, 1.3450, 1.5075,\n",
    "    1.2071, 1.1607, 1.0175, 1.3104, 1.2445, 1.2477, 1.0119,\n",
    "    0.9665, 1.2977, 1.2991, 1.0446, 1.1838, 0.9698, 1.1869,\n",
    "    1.0349, 1.1097, 1.0900, 1.0254, 1.1114, 1.1413, 1.1926,\n",
    "    1.2937, 1.2863, 0.9464, 1.1930, 1.1855, 1.4438, 1.2812,\n",
    "    0.8830, 1.0654, 1.2816, 0.9316, 1.0441, 1.0447, 0.9932\n",
    "]\n",
    "epochs = list(range(1, len(loss_values) + 1))\n",
    "\n",
    "# Linear regression to get trendline\n",
    "fit = np.polyfit(epochs, loss_values, 1)\n",
    "trendline = np.poly1d(fit)\n",
    "\n",
    "# Extend the trendline beyond the borders of the plot\n",
    "extended_epochs = np.arange(-30, len(loss_values) + 100)  # Adjust the range as needed\n",
    "extended_trendline = np.poly1d(np.polyfit(epochs, loss_values, 1))(extended_epochs)\n",
    "\n",
    "min_loss_index = np.argmin(loss_values)\n",
    "max_loss_index = np.argmax(loss_values)\n",
    "\n",
    "plt.figure(figsize=(12, 6))\n",
    "\n",
    "plt.plot(epochs, loss_values, marker='o', label='Training Loss')\n",
    "plt.plot(extended_epochs, extended_trendline, '--', label='Extended Trendline', color='cyan', alpha=1)\n",
    "plt.scatter(epochs[min_loss_index], loss_values[min_loss_index], color='green', marker='o')\n",
    "plt.scatter(epochs[max_loss_index], loss_values[max_loss_index], color='red', marker='o')\n",
    "\n",
    "plt.arrow(epochs[min_loss_index], loss_values[min_loss_index], -5, -0.1,\n",
    "          head_width=0.1, head_length=0.02, fc='green', ec='green')\n",
    "plt.arrow(epochs[max_loss_index], loss_values[max_loss_index], -5, 0.1,\n",
    "          head_width=0.1, head_length=0.02, fc='red', ec='red')\n",
    "\n",
    "plt.text(epochs[min_loss_index] - 13.5, loss_values[min_loss_index] - 0.1, 'Min Loss', color='green')\n",
    "plt.text(epochs[max_loss_index] - 9, loss_values[max_loss_index] + 0.17, 'Max Loss', color='red')\n",
    "\n",
    "plt.xlim(min(epochs) - 10, max(epochs) + 5)\n",
    "plt.ylim(min(loss_values) - 0.2, max(loss_values) + 0.3)\n",
    "\n",
    "plt.title('Training Loss Over Epochs with Extended Trendline and Arrows')\n",
    "plt.xlabel('Epoch')\n",
    "plt.ylabel('Loss')\n",
    "\n",
    "plt.legend()\n",
    "plt.grid(True)\n",
    "plt.show()\n"
   ],
   "metadata": {
    "collapsed": false,
    "ExecuteTime": {
     "end_time": "2023-12-07T10:11:32.688728800Z",
     "start_time": "2023-12-07T10:11:32.303840300Z"
    }
   },
   "id": "54b918e6f5ddc955"
  },
  {
   "cell_type": "code",
   "execution_count": 41,
   "outputs": [
    {
     "name": "stdout",
     "output_type": "stream",
     "text": [
      "Mean: 1.3549114285714285\n",
      "Variance: 0.09303120386938774\n"
     ]
    }
   ],
   "source": [
    "mean_value = np.mean(loss_values)\n",
    "variance_value = np.var(loss_values)\n",
    "\n",
    "print(\"Mean:\", mean_value)\n",
    "print(\"Variance:\", variance_value)"
   ],
   "metadata": {
    "collapsed": false,
    "ExecuteTime": {
     "end_time": "2023-12-07T10:12:32.531470900Z",
     "start_time": "2023-12-07T10:12:32.475428200Z"
    }
   },
   "id": "7a59622fc48d6ebf"
  },
  {
   "cell_type": "code",
   "execution_count": 63,
   "outputs": [
    {
     "name": "stdout",
     "output_type": "stream",
     "text": [
      "Predicted Class: Airplane\n"
     ]
    }
   ],
   "source": [
    "import torch\n",
    "import torch.nn.functional as F\n",
    "from torchvision import transforms\n",
    "from PIL import Image\n",
    "\n",
    "model = torch.load('your_model2.pth')\n",
    "\n",
    "image_path = r\"C:\\Users\\ivan.zeljeznjak\\Downloads\\istockphoto-104241367-612x612.jpg\"\n",
    "image = Image.open(image_path).convert('RGB')\n",
    "\n",
    "transform = transforms.Compose([\n",
    "    transforms.Resize((32, 32)),\n",
    "    transforms.ToTensor(),\n",
    "    transforms.Normalize((0.5, 0.5, 0.5), (0.5, 0.5, 0.5))\n",
    "])\n",
    "\n",
    "input_image = transform(image)\n",
    "\n",
    "input_image = input_image.unsqueeze(0)\n",
    "\n",
    "model.eval()\n",
    "\n",
    "with torch.no_grad():\n",
    "    output = model(input_image)\n",
    "\n",
    "probabilities = F.softmax(output, dim=1)\n",
    "\n",
    "predicted_class = torch.argmax(probabilities, dim=1).item()\n",
    "\n",
    "cifar10_classes = [\n",
    "    \"Airplane\", \"Automobile\", \"Bird\", \"Cat\", \"Deer\",\n",
    "    \"Dog\", \"Frog\", \"Horse\", \"Ship\", \"Truck\"\n",
    "]\n",
    "\n",
    "predicted_class_label = cifar10_classes[predicted_class]\n",
    "print(\"Predicted Class:\", predicted_class_label)\n"
   ],
   "metadata": {
    "collapsed": false,
    "ExecuteTime": {
     "end_time": "2023-12-07T10:57:56.201551200Z",
     "start_time": "2023-12-07T10:57:56.136592300Z"
    }
   },
   "id": "7fe80b4d1c6c55ce"
  },
  {
   "cell_type": "code",
   "execution_count": 48,
   "outputs": [],
   "source": [
    "torch.save(model.state_dict(), 'your_model.pth')\n"
   ],
   "metadata": {
    "collapsed": false,
    "ExecuteTime": {
     "end_time": "2023-12-07T10:21:17.009065800Z",
     "start_time": "2023-12-07T10:21:16.963219200Z"
    }
   },
   "id": "fd4e39f55075bad7"
  },
  {
   "cell_type": "code",
   "execution_count": 49,
   "outputs": [
    {
     "data": {
      "text/plain": "Net(\n  (conv1): Conv2d(3, 64, kernel_size=(3, 3), stride=(1, 1), padding=(1, 1))\n  (relu1): ReLU()\n  (maxpool1): MaxPool2d(kernel_size=2, stride=2, padding=0, dilation=1, ceil_mode=False)\n  (conv2): Conv2d(64, 128, kernel_size=(3, 3), stride=(1, 1), padding=(1, 1))\n  (relu2): ReLU()\n  (maxpool2): MaxPool2d(kernel_size=2, stride=2, padding=0, dilation=1, ceil_mode=False)\n  (dropout): Dropout(p=0.25, inplace=False)\n  (fc1): Linear(in_features=8192, out_features=128, bias=True)\n  (relu3): ReLU()\n  (dropout2): Dropout(p=0.25, inplace=False)\n  (fc2): Linear(in_features=128, out_features=10, bias=True)\n)"
     },
     "execution_count": 49,
     "metadata": {},
     "output_type": "execute_result"
    }
   ],
   "source": [
    "model = Net()\n",
    "\n",
    "state_dict = torch.load('your_model.pth')\n",
    "\n",
    "model.load_state_dict(state_dict)\n",
    "\n",
    "model.eval()\n"
   ],
   "metadata": {
    "collapsed": false,
    "ExecuteTime": {
     "end_time": "2023-12-07T10:21:25.919546500Z",
     "start_time": "2023-12-07T10:21:25.790414100Z"
    }
   },
   "id": "2e91b0551102dcea"
  },
  {
   "cell_type": "code",
   "execution_count": 66,
   "outputs": [],
   "source": [
    "import pandas as pd\n",
    "\n",
    "# Create a DataFrame\n",
    "data = {\n",
    "    'Epoch': epochs,\n",
    "    'Loss': loss_values\n",
    "}\n",
    "\n",
    "df = pd.DataFrame(data)\n",
    "\n",
    "# Save the DataFrame to a CSV file\n",
    "df.to_csv('loss_data.csv', index=False)\n"
   ],
   "metadata": {
    "collapsed": false,
    "ExecuteTime": {
     "end_time": "2023-12-07T11:45:20.201018300Z",
     "start_time": "2023-12-07T11:45:20.126519500Z"
    }
   },
   "id": "2215f85acacecd4f"
  },
  {
   "cell_type": "code",
   "execution_count": 50,
   "outputs": [],
   "source": [
    "torch.save(model, 'your_model2.pth')\n"
   ],
   "metadata": {
    "collapsed": false,
    "ExecuteTime": {
     "end_time": "2023-12-07T10:21:46.630426600Z",
     "start_time": "2023-12-07T10:21:46.583858300Z"
    }
   },
   "id": "e0fb13e709064f70"
  },
  {
   "cell_type": "code",
   "execution_count": 70,
   "outputs": [
    {
     "data": {
      "text/plain": "0.6321205588285577"
     },
     "execution_count": 70,
     "metadata": {},
     "output_type": "execute_result"
    }
   ],
   "source": [
    "csv_file_path = 'loss_data.csv'\n",
    "\n",
    "# Read the CSV file into a DataFrame\n",
    "df = pd.read_csv(csv_file_path)\n",
    "\n",
    "# Display the DataFrame\n",
    "print(df)\n",
    "\n"
   ],
   "metadata": {
    "collapsed": false,
    "ExecuteTime": {
     "end_time": "2023-12-07T12:37:49.187638500Z",
     "start_time": "2023-12-07T12:37:49.163241300Z"
    }
   },
   "id": "37f5fbf77a7c8136"
  },
  {
   "cell_type": "code",
   "execution_count": 51,
   "outputs": [
    {
     "data": {
      "text/plain": "Net(\n  (conv1): Conv2d(3, 64, kernel_size=(3, 3), stride=(1, 1), padding=(1, 1))\n  (relu1): ReLU()\n  (maxpool1): MaxPool2d(kernel_size=2, stride=2, padding=0, dilation=1, ceil_mode=False)\n  (conv2): Conv2d(64, 128, kernel_size=(3, 3), stride=(1, 1), padding=(1, 1))\n  (relu2): ReLU()\n  (maxpool2): MaxPool2d(kernel_size=2, stride=2, padding=0, dilation=1, ceil_mode=False)\n  (dropout): Dropout(p=0.25, inplace=False)\n  (fc1): Linear(in_features=8192, out_features=128, bias=True)\n  (relu3): ReLU()\n  (dropout2): Dropout(p=0.25, inplace=False)\n  (fc2): Linear(in_features=128, out_features=10, bias=True)\n)"
     },
     "execution_count": 51,
     "metadata": {},
     "output_type": "execute_result"
    }
   ],
   "source": [
    "# Load the entire model\n",
    "model = torch.load('your_model2.pth')\n",
    "\n",
    "# Set the model to evaluation mode\n",
    "model.eval()\n"
   ],
   "metadata": {
    "collapsed": false,
    "ExecuteTime": {
     "end_time": "2023-12-07T10:21:55.692260600Z",
     "start_time": "2023-12-07T10:21:55.594474400Z"
    }
   },
   "id": "7e19675f8c1e14b"
  }
 ],
 "metadata": {
  "kernelspec": {
   "display_name": "Python 3",
   "language": "python",
   "name": "python3"
  },
  "language_info": {
   "codemirror_mode": {
    "name": "ipython",
    "version": 2
   },
   "file_extension": ".py",
   "mimetype": "text/x-python",
   "name": "python",
   "nbconvert_exporter": "python",
   "pygments_lexer": "ipython2",
   "version": "2.7.6"
  }
 },
 "nbformat": 4,
 "nbformat_minor": 5
}
